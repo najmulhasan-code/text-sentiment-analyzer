{
 "cells": [
  {
   "cell_type": "code",
   "execution_count": 59,
   "metadata": {},
   "outputs": [],
   "source": [
    "import pandas as pd\n",
    "from sklearn.feature_extraction.text import CountVectorizer\n",
    "from sklearn.model_selection import train_test_split\n",
    "from sklearn.naive_bayes import MultinomialNB\n",
    "from sklearn.metrics import accuracy_score, classification_report\n",
    "import joblib\n",
    "import os"
   ]
  },
  {
   "cell_type": "code",
   "execution_count": 60,
   "metadata": {},
   "outputs": [],
   "source": [
    "def get_dataset_path(filename):\n",
    "    \"\"\"\n",
    "    Constructs the full path to the dataset file.\n",
    "\n",
    "    Parameters:\n",
    "    filename (str): The name of the dataset file.\n",
    "\n",
    "    Returns:\n",
    "    str: The full path to the dataset file.\n",
    "    \"\"\"\n",
    "    current_dir = os.getcwd()\n",
    "    dataset_path = os.path.join(current_dir, filename)\n",
    "    return dataset_path"
   ]
  },
  {
   "cell_type": "code",
   "execution_count": 62,
   "metadata": {},
   "outputs": [],
   "source": [
    "def load_dataset(path):\n",
    "    \"\"\"\n",
    "    Loads the dataset from the given path.\n",
    "\n",
    "    Parameters:\n",
    "    path (str): The path to the dataset file.\n",
    "\n",
    "    Returns:\n",
    "    pd.DataFrame: The loaded dataset.\n",
    "    \"\"\"\n",
    "    if not os.path.isfile(path):\n",
    "        raise FileNotFoundError(f\"The dataset file was not found at: {path}\")\n",
    "    \n",
    "    data = pd.read_csv(path, encoding='latin-1')\n",
    "    data.columns = ['polarity', 'id', 'date', 'query', 'user', 'text']\n",
    "    return data\n"
   ]
  },
  {
   "cell_type": "code",
   "execution_count": 64,
   "metadata": {},
   "outputs": [],
   "source": [
    "def preprocess_data(data):\n",
    "    \"\"\"\n",
    "    Preprocesses the data for training.\n",
    "\n",
    "    Parameters:\n",
    "    data (pd.DataFrame): The dataset.\n",
    "\n",
    "    Returns:\n",
    "    tuple: Tuple containing the feature matrix and the target vector.\n",
    "    \"\"\"\n",
    "    X = data['text']\n",
    "    y = data['polarity']\n",
    "\n",
    "    vectorizer = CountVectorizer(stop_words='english')\n",
    "    X = vectorizer.fit_transform(X)\n",
    "    return X,y, vectorizer"
   ]
  },
  {
   "cell_type": "code",
   "execution_count": 65,
   "metadata": {},
   "outputs": [],
   "source": [
    "def train_model(X_train, y_train):\n",
    "    \"\"\"\n",
    "    Trains a Naive Bayes model\n",
    "\n",
    "    Parameters:\n",
    "    X_train (sparse matrix): The training feature matrix.\n",
    "    y_train (pd.Series): The training target vector.\n",
    "\n",
    "    Returns:\n",
    "    MultinomialNB: The trained model.\n",
    "    \"\"\"\n",
    "\n",
    "    model = MultinomialNB()\n",
    "    model.fit(X_train, y_train)\n",
    "    return model"
   ]
  },
  {
   "cell_type": "code",
   "execution_count": 66,
   "metadata": {},
   "outputs": [],
   "source": [
    "def evaluate_model(model, X_test, y_test):\n",
    "    \"\"\"\n",
    "    Evaluates the trained model\n",
    "\n",
    "    Parameters:\n",
    "    model (MultinomialNB): The trained model.\n",
    "    X_test (sparse matrix): The test feature matrix.\n",
    "    y_test (pd.Series): The test target vector.\n",
    "\n",
    "    Returns:\n",
    "    None\n",
    "    \"\"\"\n",
    "\n",
    "    y_pred = model.predict(X_test)\n",
    "    accuracy = accuracy_score(y_test, y_pred)\n",
    "    report = classification_report(y_test, y_pred)\n",
    "    print(f'Accuracy: {accuracy * 100:.2f}%')\n",
    "    print(f'Classification Report:\\n{report}')\n",
    "    "
   ]
  },
  {
   "cell_type": "code",
   "execution_count": 67,
   "metadata": {},
   "outputs": [],
   "source": [
    "def save_model_and_vectorizer(model, vectorizer, model_path='sentiment_model.pkl', vectorizer_path='vectorizer.pkl'):\n",
    "    \"\"\"\n",
    "    Saves the trained model and vectorizer to disk.\n",
    "\n",
    "    Parameters:\n",
    "    model (MultinomialNB): The trained model.\n",
    "    vectorizer (CountVectorizer): The vectorizer.\n",
    "    model_path (str): The path to save the model.\n",
    "    vectorizer_path (str): The path to save the vectorizer.\n",
    "\n",
    "    Returns:\n",
    "    None\n",
    "    \"\"\"\n",
    "    joblib.dump(model, model_path)\n",
    "    joblib.dump(vectorizer, vectorizer_path)\n",
    "\n",
    "\n"
   ]
  },
  {
   "cell_type": "code",
   "execution_count": 68,
   "metadata": {},
   "outputs": [
    {
     "name": "stdout",
     "output_type": "stream",
     "text": [
      "Dataset path c:\\Users\\najmu\\Desktop\\text-sentiment-analyzer\\text-sentiment-analyzer\\python-scripts\\sentiment140.csv\n",
      "Dataset loaded. Shape: (1599999, 6)\n",
      "polarity\n",
      "4    800000\n",
      "0    799999\n",
      "Name: count, dtype: int64\n",
      "Shape of X afetr vectorizer: (1599999, 684046)\n",
      "Shape of X_train: (1279999, 684046)\n",
      "Shape of y_train: (1279999,)\n",
      "Accuracy: 76.85%\n",
      "Classification Report:\n",
      "              precision    recall  f1-score   support\n",
      "\n",
      "           0       0.75      0.80      0.77    159494\n",
      "           4       0.79      0.74      0.76    160506\n",
      "\n",
      "    accuracy                           0.77    320000\n",
      "   macro avg       0.77      0.77      0.77    320000\n",
      "weighted avg       0.77      0.77      0.77    320000\n",
      "\n"
     ]
    }
   ],
   "source": [
    "# Define dataset file name\n",
    "dataset_filename = 'sentiment140.csv'\n",
    "\n",
    "# Get the path to the dataset\n",
    "dataset_path = get_dataset_path(dataset_filename)\n",
    "print(f'Dataset path {dataset_path}')\n",
    "\n",
    "# Load the dataset\n",
    "data = load_dataset(dataset_path)\n",
    "print(f'Dataset loaded. Shape: {data.shape}')\n",
    "print(data['polarity'].value_counts())\n",
    "\n",
    "# Preprocess the data\n",
    "X, y, vectorizer = preprocess_data(data)\n",
    "print(f'Shape of X afetr vectorizer: {X.shape}')\n",
    "\n",
    "# Split the data into training and test sets\n",
    "X_train, X_test, y_train, y_test = train_test_split(X, y, test_size=0.2, random_state=42)\n",
    "print(f'Shape of X_train: {X_train.shape}')\n",
    "print(f'Shape of y_train: {y_train.shape}')\n",
    "\n",
    "# Train the model\n",
    "model = train_model(X_train, y_train)\n",
    "\n",
    "# Evaluate the model\n",
    "evaluate_model(model, X_test, y_test)\n",
    "\n",
    "# Save the model and vectorizer\n",
    "save_model_and_vectorizer(model, vectorizer)"
   ]
  }
 ],
 "metadata": {
  "kernelspec": {
   "display_name": ".venv",
   "language": "python",
   "name": "python3"
  },
  "language_info": {
   "codemirror_mode": {
    "name": "ipython",
    "version": 3
   },
   "file_extension": ".py",
   "mimetype": "text/x-python",
   "name": "python",
   "nbconvert_exporter": "python",
   "pygments_lexer": "ipython3",
   "version": "3.12.4"
  }
 },
 "nbformat": 4,
 "nbformat_minor": 2
}
